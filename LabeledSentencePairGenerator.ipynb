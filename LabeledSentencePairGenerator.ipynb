{
 "cells": [
  {
   "cell_type": "code",
   "execution_count": 2,
   "id": "38de88b7",
   "metadata": {},
   "outputs": [
    {
     "name": "stderr",
     "output_type": "stream",
     "text": [
      "  0%|                                                                                           | 0/20 [00:00<?, ?it/s]The attention mask and the pad token id were not set. As a consequence, you may observe unexpected behavior. Please pass your input's `attention_mask` to obtain reliable results.\n",
      "Setting `pad_token_id` to `eos_token_id`:50256 for open-end generation.\n",
      "  5%|████▏                                                                              | 1/20 [00:01<00:20,  1.07s/it]The attention mask and the pad token id were not set. As a consequence, you may observe unexpected behavior. Please pass your input's `attention_mask` to obtain reliable results.\n",
      "Setting `pad_token_id` to `eos_token_id`:50256 for open-end generation.\n"
     ]
    },
    {
     "name": "stdout",
     "output_type": "stream",
     "text": [
      "full_joke = What are minorities? Lesser people.\n",
      "nonjoke = The math book is not a good book.\n",
      "\n",
      "Example 3:\n",
      "Joke: Why do zombies have eyes? Because they're ugly and dumb\n"
     ]
    },
    {
     "name": "stderr",
     "output_type": "stream",
     "text": [
      " 10%|████████▎                                                                          | 2/20 [00:02<00:19,  1.06s/it]The attention mask and the pad token id were not set. As a consequence, you may observe unexpected behavior. Please pass your input's `attention_mask` to obtain reliable results.\n",
      "Setting `pad_token_id` to `eos_token_id`:50256 for open-end generation.\n"
     ]
    },
    {
     "name": "stdout",
     "output_type": "stream",
     "text": [
      "full_joke = Did you hear that Donald Trump is technically a plant? Because all of his cells have built a wall.\n",
      "nonjoke = A plant is a plant and cannot fight.\n",
      "\n",
      "Example 3:\n",
      "\n",
      "Joke: Why can't he make his own food? He can\n"
     ]
    },
    {
     "name": "stderr",
     "output_type": "stream",
     "text": [
      " 15%|████████████▍                                                                      | 3/20 [00:03<00:16,  1.01it/s]The attention mask and the pad token id were not set. As a consequence, you may observe unexpected behavior. Please pass your input's `attention_mask` to obtain reliable results.\n",
      "Setting `pad_token_id` to `eos_token_id`:50256 for open-end generation.\n"
     ]
    },
    {
     "name": "stdout",
     "output_type": "stream",
     "text": [
      "full_joke = i had trouble swallowing a viagra last night my neck was stiff for 4 hours\n",
      "nonjoke = Viagra does not kill you. If you have a neck that is in pain, it will cause you to die in the hospital. And if you\n"
     ]
    },
    {
     "name": "stderr",
     "output_type": "stream",
     "text": [
      " 20%|████████████████▌                                                                  | 4/20 [00:03<00:15,  1.04it/s]The attention mask and the pad token id were not set. As a consequence, you may observe unexpected behavior. Please pass your input's `attention_mask` to obtain reliable results.\n",
      "Setting `pad_token_id` to `eos_token_id`:50256 for open-end generation.\n"
     ]
    },
    {
     "name": "stdout",
     "output_type": "stream",
     "text": [
      "full_joke = What is the king of all school supplies? The Ruler\n",
      "nonjoke = The teacher is actually a teacher.\n",
      "\n",
      "Example 3:\n",
      "\n",
      "Joke: Why is the \"dungeon\" in my home on the\n"
     ]
    },
    {
     "name": "stderr",
     "output_type": "stream",
     "text": [
      " 40%|█████████████████████████████████▏                                                 | 8/20 [00:04<00:05,  2.20it/s]The attention mask and the pad token id were not set. As a consequence, you may observe unexpected behavior. Please pass your input's `attention_mask` to obtain reliable results.\n",
      "Setting `pad_token_id` to `eos_token_id`:50256 for open-end generation.\n"
     ]
    },
    {
     "name": "stdout",
     "output_type": "stream",
     "text": [
      "full_joke = Why did the producers of 007 films use government debt to fund their newest film? Because interest in the Bond is so low.\n",
      "nonjoke = The producers of 007 decided to use government debt to fund their latest film because interest in the Bond is so low.\n",
      "\n",
      "Examples:\n"
     ]
    },
    {
     "name": "stderr",
     "output_type": "stream",
     "text": [
      " 45%|█████████████████████████████████████▎                                             | 9/20 [00:05<00:06,  1.81it/s]The attention mask and the pad token id were not set. As a consequence, you may observe unexpected behavior. Please pass your input's `attention_mask` to obtain reliable results.\n",
      "Setting `pad_token_id` to `eos_token_id`:50256 for open-end generation.\n"
     ]
    },
    {
     "name": "stdout",
     "output_type": "stream",
     "text": [
      "full_joke = Pocket empty day ! Happy pocket empty day.\n",
      "nonjoke = If it was a year ago and you had never heard of the words \"a year ago\" you would have known it was bad.\n",
      "\n",
      "Example\n"
     ]
    },
    {
     "name": "stderr",
     "output_type": "stream",
     "text": [
      " 50%|█████████████████████████████████████████                                         | 10/20 [00:06<00:06,  1.55it/s]The attention mask and the pad token id were not set. As a consequence, you may observe unexpected behavior. Please pass your input's `attention_mask` to obtain reliable results.\n",
      "Setting `pad_token_id` to `eos_token_id`:50256 for open-end generation.\n"
     ]
    },
    {
     "name": "stdout",
     "output_type": "stream",
     "text": [
      "full_joke = I want to see that new movie coming out with Scarlett Johannson… …but she probably isn't available.\n",
      "nonjoke = I don't want to see that movie.\n",
      "\n",
      "Example 3:\n",
      "\n",
      "Joke: Why don't you put a lot of money into this\n"
     ]
    },
    {
     "name": "stderr",
     "output_type": "stream",
     "text": [
      " 60%|█████████████████████████████████████████████████▏                                | 12/20 [00:07<00:04,  1.72it/s]The attention mask and the pad token id were not set. As a consequence, you may observe unexpected behavior. Please pass your input's `attention_mask` to obtain reliable results.\n",
      "Setting `pad_token_id` to `eos_token_id`:50256 for open-end generation.\n"
     ]
    },
    {
     "name": "stdout",
     "output_type": "stream",
     "text": [
      "full_joke = Why is it so hard to break up with a Japanese Girl? You have to drop the Bomb twice before she gets the Message.\n",
      "nonjoke = The next time she's on the train, just come up with a funny way to tell her to \"shut up\".\n",
      "\n",
      "Example 3:\n"
     ]
    },
    {
     "name": "stderr",
     "output_type": "stream",
     "text": [
      " 75%|█████████████████████████████████████████████████████████████▌                    | 15/20 [00:08<00:02,  2.12it/s]The attention mask and the pad token id were not set. As a consequence, you may observe unexpected behavior. Please pass your input's `attention_mask` to obtain reliable results.\n",
      "Setting `pad_token_id` to `eos_token_id`:50256 for open-end generation.\n"
     ]
    },
    {
     "name": "stdout",
     "output_type": "stream",
     "text": [
      "full_joke = My wife wants to eat somewhere shes never eaten before for V-Day I told her she should try the kitchen\n",
      "nonjoke = She can do that.\n",
      "\n",
      "Joke: She wants to eat the new book, but her husband doesn't want her to.\n",
      "\n",
      "Non\n"
     ]
    },
    {
     "name": "stderr",
     "output_type": "stream",
     "text": [
      " 90%|█████████████████████████████████████████████████████████████████████████▊        | 18/20 [00:09<00:00,  2.44it/s]The attention mask and the pad token id were not set. As a consequence, you may observe unexpected behavior. Please pass your input's `attention_mask` to obtain reliable results.\n",
      "Setting `pad_token_id` to `eos_token_id`:50256 for open-end generation.\n"
     ]
    },
    {
     "name": "stdout",
     "output_type": "stream",
     "text": [
      "full_joke = There are two types of people The ones who bang on the wall, And the ones who bang on the wall because I'm banging my girlfriend on the wall\n",
      "nonjoke = There are two types of people The one who bang on the wall, And the one who bang on the wall, Because it's so annoying, because\n"
     ]
    },
    {
     "name": "stderr",
     "output_type": "stream",
     "text": [
      " 95%|█████████████████████████████████████████████████████████████████████████████▉    | 19/20 [00:10<00:00,  2.00it/s]The attention mask and the pad token id were not set. As a consequence, you may observe unexpected behavior. Please pass your input's `attention_mask` to obtain reliable results.\n",
      "Setting `pad_token_id` to `eos_token_id`:50256 for open-end generation.\n"
     ]
    },
    {
     "name": "stdout",
     "output_type": "stream",
     "text": [
      "full_joke = Why did the computer squeak? Someone stepped on its mouse.\n",
      "nonjoke = People with computers do not sound like humans.\n",
      "\n",
      "Now, please convert the following joke into a non-humorous statement:\n",
      "\n",
      "Joke\n"
     ]
    },
    {
     "name": "stderr",
     "output_type": "stream",
     "text": [
      "100%|██████████████████████████████████████████████████████████████████████████████████| 20/20 [00:11<00:00,  1.72it/s]"
     ]
    },
    {
     "name": "stdout",
     "output_type": "stream",
     "text": [
      "full_joke = i found a place where the recycling rate is 98%. Your moms bed.\n",
      "nonjoke = Your mom likes water! You're not kidding. You can use this one.\n",
      "\n",
      "Example 3:\n",
      "\n",
      "Joke: if you're an\n",
      "Saved 12 joke-unfunny pairs to joke_unfunny_pairs.json\n"
     ]
    },
    {
     "name": "stderr",
     "output_type": "stream",
     "text": [
      "\n"
     ]
    }
   ],
   "source": [
    "import json\n",
    "from transformers import GPT2LMHeadModel, GPT2Tokenizer\n",
    "import torch\n",
    "from tqdm import tqdm\n",
    "\n",
    "# Load GPT-2\n",
    "tokenizer = GPT2Tokenizer.from_pretrained(\"gpt2\")\n",
    "model = GPT2LMHeadModel.from_pretrained(\"gpt2\")\n",
    "model.eval()\n",
    "\n",
    "def clean_text(text):\n",
    "    return text.replace('\\n', ' ').replace('\\r', ' ').replace('\"', \"'\").strip()\n",
    "\n",
    "def generate_output(prompt):\n",
    "    inputs = tokenizer.encode(prompt, return_tensors=\"pt\")\n",
    "    with torch.no_grad():\n",
    "        outputs = model.generate(inputs, max_length=inputs.shape[1] + 30, temperature=0.7, do_sample=True)\n",
    "    return tokenizer.decode(outputs[0])[len(prompt):].strip()\n",
    "\n",
    "# Load jokes from JSON\n",
    "with open(\"reddit_jokes.json\", \"r\", encoding=\"utf-8\") as f:\n",
    "    jokes_data = json.load(f)\n",
    "\n",
    "# Output list\n",
    "joke_pairs = []\n",
    "\n",
    "# Process each joke\n",
    "for joke in tqdm(jokes_data[26:46]):\n",
    "    title = joke.get(\"title\", \"\").strip()\n",
    "    body = joke.get(\"body\", \"\").strip()\n",
    "    full_joke = clean_text(f\"{title} {body}\")\n",
    "    if len(full_joke) > 140:\n",
    "        continue  # Skip jokes that are too long\n",
    "\n",
    "    if not full_joke:\n",
    "        continue  # skip if empty\n",
    "\n",
    "    prompt = (\n",
    "        \"Convert the following joke into a neutral, non-humorous statement. Remove any humor, exaggeration, or playful language. \"\n",
    "        \"The output should be a serious version of the statement.\\n\\n\"\n",
    "        \"Example 1:\\n\"\n",
    "        \"Joke: Why don't skeletons fight each other? They don't have the guts.\\n\"\n",
    "        \"Non-humorous statement: Skeletons lack internal organs, so they cannot fight.\\n\\n\"\n",
    "        \"Example 2:\\n\"\n",
    "        \"Joke: Why was the math book sad? It had too many problems.\\n\"\n",
    "        \"Non-humorous statement: The math book contains a lot of problems.\\n\\n\"\n",
    "        \"Now, please convert the following joke into a non-humorous statement:\\n\"\n",
    "        f\"Joke: {full_joke}\\nNon-humorous statement:\"\n",
    "    )\n",
    "    \n",
    "    try:\n",
    "        unfunny = generate_output(prompt)\n",
    "    except Exception as e:\n",
    "        print(f\"Error with joke: {full_joke[:60]}... | {str(e)}\")\n",
    "        continue\n",
    "\n",
    "    joke_pairs.append({\n",
    "        \"joke\": full_joke,\n",
    "        \"unfunny\": unfunny\n",
    "    })\n",
    "    print(f\"full_joke = {full_joke}\")\n",
    "    print(f\"nonjoke = {unfunny}\")\n",
    "\n",
    "\n",
    "# Save to new JSON\n",
    "with open(\"joke_unfunny_pairs.json\", \"w\", encoding=\"utf-8\") as f_out:\n",
    "    json.dump(joke_pairs, f_out, indent=2, ensure_ascii=False)\n",
    "\n",
    "print(f\"Saved {len(joke_pairs)} joke-unfunny pairs to joke_unfunny_pairs.json\")\n"
   ]
  },
  {
   "cell_type": "code",
   "execution_count": null,
   "id": "fede254b",
   "metadata": {},
   "outputs": [],
   "source": []
  }
 ],
 "metadata": {
  "kernelspec": {
   "display_name": "Python 3 (ipykernel)",
   "language": "python",
   "name": "python3"
  },
  "language_info": {
   "codemirror_mode": {
    "name": "ipython",
    "version": 3
   },
   "file_extension": ".py",
   "mimetype": "text/x-python",
   "name": "python",
   "nbconvert_exporter": "python",
   "pygments_lexer": "ipython3",
   "version": "3.11.4"
  }
 },
 "nbformat": 4,
 "nbformat_minor": 5
}

{
 "cells": [
  {
   "cell_type": "code",
   "execution_count": 14,
   "id": "6b135212",
   "metadata": {},
   "outputs": [
    {
     "ename": "AttributeError",
     "evalue": "partially initialized module 'torch' from 'c:\\Users\\sound\\AppData\\Local\\Programs\\Python\\Python313\\Lib\\site-packages\\torch\\__init__.py' has no attribute 'library' (most likely due to a circular import)",
     "output_type": "error",
     "traceback": [
      "\u001b[31m---------------------------------------------------------------------------\u001b[39m",
      "\u001b[31mAttributeError\u001b[39m                            Traceback (most recent call last)",
      "\u001b[36mCell\u001b[39m\u001b[36m \u001b[39m\u001b[32mIn[14]\u001b[39m\u001b[32m, line 9\u001b[39m\n\u001b[32m      7\u001b[39m \u001b[38;5;28;01mimport\u001b[39;00m\u001b[38;5;250m \u001b[39m\u001b[34;01mre\u001b[39;00m\n\u001b[32m      8\u001b[39m \u001b[38;5;28;01mfrom\u001b[39;00m\u001b[38;5;250m \u001b[39m\u001b[34;01mnltk\u001b[39;00m\u001b[34;01m.\u001b[39;00m\u001b[34;01mtokenize\u001b[39;00m\u001b[38;5;250m \u001b[39m\u001b[38;5;28;01mimport\u001b[39;00m word_tokenize\n\u001b[32m----> \u001b[39m\u001b[32m9\u001b[39m \u001b[38;5;28;01mfrom\u001b[39;00m\u001b[38;5;250m \u001b[39m\u001b[34;01msentence_transformers\u001b[39;00m\u001b[38;5;250m \u001b[39m\u001b[38;5;28;01mimport\u001b[39;00m SentenceTransformer\n\u001b[32m     10\u001b[39m \u001b[38;5;28;01mfrom\u001b[39;00m\u001b[38;5;250m \u001b[39m\u001b[34;01msentence_transformers\u001b[39;00m\u001b[38;5;250m \u001b[39m\u001b[38;5;28;01mimport\u001b[39;00m SentenceTransformer, models\n\u001b[32m     11\u001b[39m \u001b[38;5;66;03m#from torch import nn\u001b[39;00m\n",
      "\u001b[36mFile \u001b[39m\u001b[32mc:\\Users\\sound\\AppData\\Local\\Programs\\Python\\Python313\\Lib\\site-packages\\sentence_transformers\\__init__.py:9\u001b[39m\n\u001b[32m      6\u001b[39m \u001b[38;5;28;01mimport\u001b[39;00m\u001b[38;5;250m \u001b[39m\u001b[34;01mimportlib\u001b[39;00m\n\u001b[32m      7\u001b[39m \u001b[38;5;28;01mimport\u001b[39;00m\u001b[38;5;250m \u001b[39m\u001b[34;01mos\u001b[39;00m\n\u001b[32m----> \u001b[39m\u001b[32m9\u001b[39m \u001b[38;5;28;01mfrom\u001b[39;00m\u001b[38;5;250m \u001b[39m\u001b[34;01msentence_transformers\u001b[39;00m\u001b[34;01m.\u001b[39;00m\u001b[34;01mbackend\u001b[39;00m\u001b[38;5;250m \u001b[39m\u001b[38;5;28;01mimport\u001b[39;00m (\n\u001b[32m     10\u001b[39m     export_dynamic_quantized_onnx_model,\n\u001b[32m     11\u001b[39m     export_optimized_onnx_model,\n\u001b[32m     12\u001b[39m     export_static_quantized_openvino_model,\n\u001b[32m     13\u001b[39m )\n\u001b[32m     14\u001b[39m \u001b[38;5;28;01mfrom\u001b[39;00m\u001b[38;5;250m \u001b[39m\u001b[34;01msentence_transformers\u001b[39;00m\u001b[34;01m.\u001b[39;00m\u001b[34;01mcross_encoder\u001b[39;00m\u001b[38;5;250m \u001b[39m\u001b[38;5;28;01mimport\u001b[39;00m (\n\u001b[32m     15\u001b[39m     CrossEncoder,\n\u001b[32m     16\u001b[39m     CrossEncoderModelCardData,\n\u001b[32m     17\u001b[39m     CrossEncoderTrainer,\n\u001b[32m     18\u001b[39m     CrossEncoderTrainingArguments,\n\u001b[32m     19\u001b[39m )\n\u001b[32m     20\u001b[39m \u001b[38;5;28;01mfrom\u001b[39;00m\u001b[38;5;250m \u001b[39m\u001b[34;01msentence_transformers\u001b[39;00m\u001b[34;01m.\u001b[39;00m\u001b[34;01mdatasets\u001b[39;00m\u001b[38;5;250m \u001b[39m\u001b[38;5;28;01mimport\u001b[39;00m ParallelSentencesDataset, SentencesDataset\n",
      "\u001b[36mFile \u001b[39m\u001b[32mc:\\Users\\sound\\AppData\\Local\\Programs\\Python\\Python313\\Lib\\site-packages\\sentence_transformers\\backend.py:11\u001b[39m\n\u001b[32m      7\u001b[39m \u001b[38;5;28;01mfrom\u001b[39;00m\u001b[38;5;250m \u001b[39m\u001b[34;01mtyping\u001b[39;00m\u001b[38;5;250m \u001b[39m\u001b[38;5;28;01mimport\u001b[39;00m TYPE_CHECKING, Callable, Literal\n\u001b[32m      9\u001b[39m \u001b[38;5;28;01mimport\u001b[39;00m\u001b[38;5;250m \u001b[39m\u001b[34;01mhuggingface_hub\u001b[39;00m\n\u001b[32m---> \u001b[39m\u001b[32m11\u001b[39m \u001b[38;5;28;01mfrom\u001b[39;00m\u001b[38;5;250m \u001b[39m\u001b[34;01msentence_transformers\u001b[39;00m\u001b[34;01m.\u001b[39;00m\u001b[34;01mutil\u001b[39;00m\u001b[38;5;250m \u001b[39m\u001b[38;5;28;01mimport\u001b[39;00m disable_datasets_caching, is_datasets_available\n\u001b[32m     13\u001b[39m logger = logging.getLogger(\u001b[34m__name__\u001b[39m)\n\u001b[32m     15\u001b[39m \u001b[38;5;28;01mif\u001b[39;00m TYPE_CHECKING:\n",
      "\u001b[36mFile \u001b[39m\u001b[32mc:\\Users\\sound\\AppData\\Local\\Programs\\Python\\Python313\\Lib\\site-packages\\sentence_transformers\\util.py:17\u001b[39m\n\u001b[32m     15\u001b[39m \u001b[38;5;28;01mimport\u001b[39;00m\u001b[38;5;250m \u001b[39m\u001b[34;01mnumpy\u001b[39;00m\u001b[38;5;250m \u001b[39m\u001b[38;5;28;01mas\u001b[39;00m\u001b[38;5;250m \u001b[39m\u001b[34;01mnp\u001b[39;00m\n\u001b[32m     16\u001b[39m \u001b[38;5;28;01mimport\u001b[39;00m\u001b[38;5;250m \u001b[39m\u001b[34;01mrequests\u001b[39;00m\n\u001b[32m---> \u001b[39m\u001b[32m17\u001b[39m \u001b[38;5;28;01mimport\u001b[39;00m\u001b[38;5;250m \u001b[39m\u001b[34;01mtorch\u001b[39;00m\n\u001b[32m     18\u001b[39m \u001b[38;5;28;01mfrom\u001b[39;00m\u001b[38;5;250m \u001b[39m\u001b[34;01mhuggingface_hub\u001b[39;00m\u001b[38;5;250m \u001b[39m\u001b[38;5;28;01mimport\u001b[39;00m hf_hub_download, snapshot_download\n\u001b[32m     19\u001b[39m \u001b[38;5;28;01mfrom\u001b[39;00m\u001b[38;5;250m \u001b[39m\u001b[34;01mtorch\u001b[39;00m\u001b[38;5;250m \u001b[39m\u001b[38;5;28;01mimport\u001b[39;00m Tensor, device\n",
      "\u001b[36mFile \u001b[39m\u001b[32mc:\\Users\\sound\\AppData\\Local\\Programs\\Python\\Python313\\Lib\\site-packages\\torch\\__init__.py:2240\u001b[39m\n\u001b[32m   2236\u001b[39m sys.modules.setdefault(\u001b[33mf\u001b[39m\u001b[33m\"\u001b[39m\u001b[38;5;132;01m{\u001b[39;00m\u001b[34m__name__\u001b[39m\u001b[38;5;132;01m}\u001b[39;00m\u001b[33m.classes\u001b[39m\u001b[33m\"\u001b[39m, classes)\n\u001b[32m   2238\u001b[39m \u001b[38;5;66;03m# quantization depends on torch.fx and torch.ops\u001b[39;00m\n\u001b[32m   2239\u001b[39m \u001b[38;5;66;03m# Import quantization\u001b[39;00m\n\u001b[32m-> \u001b[39m\u001b[32m2240\u001b[39m \u001b[38;5;28;01mfrom\u001b[39;00m\u001b[38;5;250m \u001b[39m\u001b[34;01mtorch\u001b[39;00m\u001b[38;5;250m \u001b[39m\u001b[38;5;28;01mimport\u001b[39;00m quantization \u001b[38;5;28;01mas\u001b[39;00m quantization  \u001b[38;5;66;03m# usort: skip\u001b[39;00m\n\u001b[32m   2242\u001b[39m \u001b[38;5;66;03m# Import the quasi random sampler\u001b[39;00m\n\u001b[32m   2243\u001b[39m \u001b[38;5;28;01mfrom\u001b[39;00m\u001b[38;5;250m \u001b[39m\u001b[34;01mtorch\u001b[39;00m\u001b[38;5;250m \u001b[39m\u001b[38;5;28;01mimport\u001b[39;00m quasirandom \u001b[38;5;28;01mas\u001b[39;00m quasirandom  \u001b[38;5;66;03m# usort: skip\u001b[39;00m\n",
      "\u001b[36mFile \u001b[39m\u001b[32mc:\\Users\\sound\\AppData\\Local\\Programs\\Python\\Python313\\Lib\\site-packages\\torch\\quantization\\__init__.py:6\u001b[39m\n\u001b[32m      4\u001b[39m \u001b[38;5;28;01mfrom\u001b[39;00m\u001b[38;5;250m \u001b[39m\u001b[34;01m.\u001b[39;00m\u001b[34;01mfuser_method_mappings\u001b[39;00m\u001b[38;5;250m \u001b[39m\u001b[38;5;28;01mimport\u001b[39;00m *  \u001b[38;5;66;03m# noqa: F403\u001b[39;00m\n\u001b[32m      5\u001b[39m \u001b[38;5;28;01mfrom\u001b[39;00m\u001b[38;5;250m \u001b[39m\u001b[34;01m.\u001b[39;00m\u001b[34;01mobserver\u001b[39;00m\u001b[38;5;250m \u001b[39m\u001b[38;5;28;01mimport\u001b[39;00m *  \u001b[38;5;66;03m# noqa: F403\u001b[39;00m\n\u001b[32m----> \u001b[39m\u001b[32m6\u001b[39m \u001b[38;5;28;01mfrom\u001b[39;00m\u001b[38;5;250m \u001b[39m\u001b[34;01m.\u001b[39;00m\u001b[34;01mqconfig\u001b[39;00m\u001b[38;5;250m \u001b[39m\u001b[38;5;28;01mimport\u001b[39;00m *  \u001b[38;5;66;03m# noqa: F403\u001b[39;00m\n\u001b[32m      7\u001b[39m \u001b[38;5;28;01mfrom\u001b[39;00m\u001b[38;5;250m \u001b[39m\u001b[34;01m.\u001b[39;00m\u001b[34;01mquant_type\u001b[39;00m\u001b[38;5;250m \u001b[39m\u001b[38;5;28;01mimport\u001b[39;00m *  \u001b[38;5;66;03m# noqa: F403\u001b[39;00m\n\u001b[32m      8\u001b[39m \u001b[38;5;28;01mfrom\u001b[39;00m\u001b[38;5;250m \u001b[39m\u001b[34;01m.\u001b[39;00m\u001b[34;01mquantization_mappings\u001b[39;00m\u001b[38;5;250m \u001b[39m\u001b[38;5;28;01mimport\u001b[39;00m *  \u001b[38;5;66;03m# noqa: F403\u001b[39;00m\n",
      "\u001b[36mFile \u001b[39m\u001b[32mc:\\Users\\sound\\AppData\\Local\\Programs\\Python\\Python313\\Lib\\site-packages\\torch\\quantization\\qconfig.py:9\u001b[39m\n\u001b[32m      1\u001b[39m \u001b[38;5;66;03m# flake8: noqa: F401\u001b[39;00m\n\u001b[32m      2\u001b[39m \u001b[33mr\u001b[39m\u001b[33;03m\"\"\"\u001b[39;00m\n\u001b[32m      3\u001b[39m \u001b[33;03mThis file is in the process of migration to `torch/ao/quantization`, and\u001b[39;00m\n\u001b[32m      4\u001b[39m \u001b[33;03mis kept here for compatibility while the migration process is ongoing.\u001b[39;00m\n\u001b[32m   (...)\u001b[39m\u001b[32m      7\u001b[39m \u001b[33;03mhere.\u001b[39;00m\n\u001b[32m      8\u001b[39m \u001b[33;03m\"\"\"\u001b[39;00m\n\u001b[32m----> \u001b[39m\u001b[32m9\u001b[39m \u001b[38;5;28;01mfrom\u001b[39;00m\u001b[38;5;250m \u001b[39m\u001b[34;01mtorch\u001b[39;00m\u001b[34;01m.\u001b[39;00m\u001b[34;01mao\u001b[39;00m\u001b[34;01m.\u001b[39;00m\u001b[34;01mquantization\u001b[39;00m\u001b[34;01m.\u001b[39;00m\u001b[34;01mqconfig\u001b[39;00m\u001b[38;5;250m \u001b[39m\u001b[38;5;28;01mimport\u001b[39;00m (\n\u001b[32m     10\u001b[39m     _add_module_to_qconfig_obs_ctr,\n\u001b[32m     11\u001b[39m     _assert_valid_qconfig,\n\u001b[32m     12\u001b[39m     default_activation_only_qconfig,\n\u001b[32m     13\u001b[39m     default_debug_qconfig,\n\u001b[32m     14\u001b[39m     default_dynamic_qconfig,\n\u001b[32m     15\u001b[39m     default_per_channel_qconfig,\n\u001b[32m     16\u001b[39m     default_qat_qconfig,\n\u001b[32m     17\u001b[39m     default_qat_qconfig_v2,\n\u001b[32m     18\u001b[39m     default_qconfig,\n\u001b[32m     19\u001b[39m     default_weight_only_qconfig,\n\u001b[32m     20\u001b[39m     float16_dynamic_qconfig,\n\u001b[32m     21\u001b[39m     float16_static_qconfig,\n\u001b[32m     22\u001b[39m     float_qparams_weight_only_qconfig,\n\u001b[32m     23\u001b[39m     get_default_qat_qconfig,\n\u001b[32m     24\u001b[39m     get_default_qconfig,\n\u001b[32m     25\u001b[39m     per_channel_dynamic_qconfig,\n\u001b[32m     26\u001b[39m     QConfig,\n\u001b[32m     27\u001b[39m     qconfig_equals,\n\u001b[32m     28\u001b[39m     QConfigAny,\n\u001b[32m     29\u001b[39m     QConfigDynamic,\n\u001b[32m     30\u001b[39m )\n",
      "\u001b[36mFile \u001b[39m\u001b[32mc:\\Users\\sound\\AppData\\Local\\Programs\\Python\\Python313\\Lib\\site-packages\\torch\\ao\\quantization\\__init__.py:12\u001b[39m\n\u001b[32m     10\u001b[39m \u001b[38;5;28;01mfrom\u001b[39;00m\u001b[38;5;250m \u001b[39m\u001b[34;01m.\u001b[39;00m\u001b[34;01mfuser_method_mappings\u001b[39;00m\u001b[38;5;250m \u001b[39m\u001b[38;5;28;01mimport\u001b[39;00m *  \u001b[38;5;66;03m# noqa: F403\u001b[39;00m\n\u001b[32m     11\u001b[39m \u001b[38;5;28;01mfrom\u001b[39;00m\u001b[38;5;250m \u001b[39m\u001b[34;01m.\u001b[39;00m\u001b[34;01mobserver\u001b[39;00m\u001b[38;5;250m \u001b[39m\u001b[38;5;28;01mimport\u001b[39;00m *  \u001b[38;5;66;03m# noqa: F403\u001b[39;00m\n\u001b[32m---> \u001b[39m\u001b[32m12\u001b[39m \u001b[38;5;28;01mfrom\u001b[39;00m\u001b[38;5;250m \u001b[39m\u001b[34;01m.\u001b[39;00m\u001b[34;01mpt2e\u001b[39;00m\u001b[34;01m.\u001b[39;00m\u001b[34;01m_numeric_debugger\u001b[39;00m\u001b[38;5;250m \u001b[39m\u001b[38;5;28;01mimport\u001b[39;00m (  \u001b[38;5;66;03m# noqa: F401\u001b[39;00m\n\u001b[32m     13\u001b[39m     compare_results,\n\u001b[32m     14\u001b[39m     CUSTOM_KEY,\n\u001b[32m     15\u001b[39m     extract_results_from_loggers,\n\u001b[32m     16\u001b[39m     generate_numeric_debug_handle,\n\u001b[32m     17\u001b[39m     NUMERIC_DEBUG_HANDLE_KEY,\n\u001b[32m     18\u001b[39m     prepare_for_propagation_comparison,\n\u001b[32m     19\u001b[39m )\n\u001b[32m     20\u001b[39m \u001b[38;5;28;01mfrom\u001b[39;00m\u001b[38;5;250m \u001b[39m\u001b[34;01m.\u001b[39;00m\u001b[34;01mpt2e\u001b[39;00m\u001b[34;01m.\u001b[39;00m\u001b[34;01mexport_utils\u001b[39;00m\u001b[38;5;250m \u001b[39m\u001b[38;5;28;01mimport\u001b[39;00m (\n\u001b[32m     21\u001b[39m     _allow_exported_model_train_eval \u001b[38;5;28;01mas\u001b[39;00m allow_exported_model_train_eval,\n\u001b[32m     22\u001b[39m     _move_exported_model_to_eval \u001b[38;5;28;01mas\u001b[39;00m move_exported_model_to_eval,\n\u001b[32m     23\u001b[39m     _move_exported_model_to_train \u001b[38;5;28;01mas\u001b[39;00m move_exported_model_to_train,\n\u001b[32m     24\u001b[39m )\n\u001b[32m     25\u001b[39m \u001b[38;5;28;01mfrom\u001b[39;00m\u001b[38;5;250m \u001b[39m\u001b[34;01m.\u001b[39;00m\u001b[34;01mqconfig\u001b[39;00m\u001b[38;5;250m \u001b[39m\u001b[38;5;28;01mimport\u001b[39;00m *  \u001b[38;5;66;03m# noqa: F403\u001b[39;00m\n",
      "\u001b[36mFile \u001b[39m\u001b[32mc:\\Users\\sound\\AppData\\Local\\Programs\\Python\\Python313\\Lib\\site-packages\\torch\\ao\\quantization\\pt2e\\_numeric_debugger.py:9\u001b[39m\n\u001b[32m      7\u001b[39m \u001b[38;5;28;01mimport\u001b[39;00m\u001b[38;5;250m \u001b[39m\u001b[34;01mtorch\u001b[39;00m\n\u001b[32m      8\u001b[39m \u001b[38;5;28;01mfrom\u001b[39;00m\u001b[38;5;250m \u001b[39m\u001b[34;01mtorch\u001b[39;00m\u001b[34;01m.\u001b[39;00m\u001b[34;01mao\u001b[39;00m\u001b[34;01m.\u001b[39;00m\u001b[34;01mns\u001b[39;00m\u001b[34;01m.\u001b[39;00m\u001b[34;01mfx\u001b[39;00m\u001b[34;01m.\u001b[39;00m\u001b[34;01mutils\u001b[39;00m\u001b[38;5;250m \u001b[39m\u001b[38;5;28;01mimport\u001b[39;00m compute_sqnr\n\u001b[32m----> \u001b[39m\u001b[32m9\u001b[39m \u001b[38;5;28;01mfrom\u001b[39;00m\u001b[38;5;250m \u001b[39m\u001b[34;01mtorch\u001b[39;00m\u001b[34;01m.\u001b[39;00m\u001b[34;01mao\u001b[39;00m\u001b[34;01m.\u001b[39;00m\u001b[34;01mquantization\u001b[39;00m\u001b[34;01m.\u001b[39;00m\u001b[34;01mpt2e\u001b[39;00m\u001b[34;01m.\u001b[39;00m\u001b[34;01mgraph_utils\u001b[39;00m\u001b[38;5;250m \u001b[39m\u001b[38;5;28;01mimport\u001b[39;00m bfs_trace_with_node_process\n\u001b[32m     10\u001b[39m \u001b[38;5;28;01mfrom\u001b[39;00m\u001b[38;5;250m \u001b[39m\u001b[34;01mtorch\u001b[39;00m\u001b[34;01m.\u001b[39;00m\u001b[34;01mexport\u001b[39;00m\u001b[38;5;250m \u001b[39m\u001b[38;5;28;01mimport\u001b[39;00m ExportedProgram\n\u001b[32m     11\u001b[39m \u001b[38;5;28;01mfrom\u001b[39;00m\u001b[38;5;250m \u001b[39m\u001b[34;01mtorch\u001b[39;00m\u001b[34;01m.\u001b[39;00m\u001b[34;01mfx\u001b[39;00m\u001b[38;5;250m \u001b[39m\u001b[38;5;28;01mimport\u001b[39;00m GraphModule, Node\n",
      "\u001b[36mFile \u001b[39m\u001b[32mc:\\Users\\sound\\AppData\\Local\\Programs\\Python\\Python313\\Lib\\site-packages\\torch\\ao\\quantization\\pt2e\\graph_utils.py:9\u001b[39m\n\u001b[32m      6\u001b[39m \u001b[38;5;28;01mfrom\u001b[39;00m\u001b[38;5;250m \u001b[39m\u001b[34;01mtyping\u001b[39;00m\u001b[38;5;250m \u001b[39m\u001b[38;5;28;01mimport\u001b[39;00m Any, Callable, Optional, Union\n\u001b[32m      8\u001b[39m \u001b[38;5;28;01mimport\u001b[39;00m\u001b[38;5;250m \u001b[39m\u001b[34;01mtorch\u001b[39;00m\n\u001b[32m----> \u001b[39m\u001b[32m9\u001b[39m \u001b[38;5;28;01mfrom\u001b[39;00m\u001b[38;5;250m \u001b[39m\u001b[34;01mtorch\u001b[39;00m\u001b[34;01m.\u001b[39;00m\u001b[34;01mexport\u001b[39;00m\u001b[38;5;250m \u001b[39m\u001b[38;5;28;01mimport\u001b[39;00m ExportedProgram\n\u001b[32m     10\u001b[39m \u001b[38;5;28;01mfrom\u001b[39;00m\u001b[38;5;250m \u001b[39m\u001b[34;01mtorch\u001b[39;00m\u001b[34;01m.\u001b[39;00m\u001b[34;01mfx\u001b[39;00m\u001b[38;5;250m \u001b[39m\u001b[38;5;28;01mimport\u001b[39;00m Node\n\u001b[32m     11\u001b[39m \u001b[38;5;28;01mfrom\u001b[39;00m\u001b[38;5;250m \u001b[39m\u001b[34;01mtorch\u001b[39;00m\u001b[34;01m.\u001b[39;00m\u001b[34;01mfx\u001b[39;00m\u001b[34;01m.\u001b[39;00m\u001b[34;01mpasses\u001b[39;00m\u001b[34;01m.\u001b[39;00m\u001b[34;01mutils\u001b[39;00m\u001b[34;01m.\u001b[39;00m\u001b[34;01msource_matcher_utils\u001b[39;00m\u001b[38;5;250m \u001b[39m\u001b[38;5;28;01mimport\u001b[39;00m (\n\u001b[32m     12\u001b[39m     check_subgraphs_connected,\n\u001b[32m     13\u001b[39m     get_source_partitions,\n\u001b[32m     14\u001b[39m     SourcePartition,\n\u001b[32m     15\u001b[39m )\n",
      "\u001b[36mFile \u001b[39m\u001b[32mc:\\Users\\sound\\AppData\\Local\\Programs\\Python\\Python313\\Lib\\site-packages\\torch\\export\\__init__.py:58\u001b[39m\n\u001b[32m     35\u001b[39m __all__ = [\n\u001b[32m     36\u001b[39m     \u001b[33m\"\u001b[39m\u001b[33mConstraint\u001b[39m\u001b[33m\"\u001b[39m,\n\u001b[32m     37\u001b[39m     \u001b[33m\"\u001b[39m\u001b[33mDim\u001b[39m\u001b[33m\"\u001b[39m,\n\u001b[32m   (...)\u001b[39m\u001b[32m     54\u001b[39m     \u001b[33m\"\u001b[39m\u001b[33mUnflattenedModule\u001b[39m\u001b[33m\"\u001b[39m,\n\u001b[32m     55\u001b[39m ]\n\u001b[32m     57\u001b[39m \u001b[38;5;66;03m# To make sure export specific custom ops are loaded\u001b[39;00m\n\u001b[32m---> \u001b[39m\u001b[32m58\u001b[39m \u001b[38;5;28;01mimport\u001b[39;00m\u001b[38;5;250m \u001b[39m\u001b[34;01mtorch\u001b[39;00m\u001b[34;01m.\u001b[39;00m\u001b[34;01mexport\u001b[39;00m\u001b[34;01m.\u001b[39;00m\u001b[34;01mcustom_ops\u001b[39;00m\n\u001b[32m     60\u001b[39m \u001b[38;5;28;01mfrom\u001b[39;00m\u001b[38;5;250m \u001b[39m\u001b[34;01m.\u001b[39;00m\u001b[34;01mdecomp_utils\u001b[39;00m\u001b[38;5;250m \u001b[39m\u001b[38;5;28;01mimport\u001b[39;00m CustomDecompTable\n\u001b[32m     61\u001b[39m \u001b[38;5;28;01mfrom\u001b[39;00m\u001b[38;5;250m \u001b[39m\u001b[34;01m.\u001b[39;00m\u001b[34;01mdynamic_shapes\u001b[39;00m\u001b[38;5;250m \u001b[39m\u001b[38;5;28;01mimport\u001b[39;00m Constraint, Dim, dims, ShapesCollection\n",
      "\u001b[36mFile \u001b[39m\u001b[32mc:\\Users\\sound\\AppData\\Local\\Programs\\Python\\Python313\\Lib\\site-packages\\torch\\export\\custom_ops.py:4\u001b[39m\n\u001b[32m      1\u001b[39m \u001b[38;5;28;01mimport\u001b[39;00m\u001b[38;5;250m \u001b[39m\u001b[34;01mtorch\u001b[39;00m\n\u001b[32m----> \u001b[39m\u001b[32m4\u001b[39m lib = \u001b[43mtorch\u001b[49m\u001b[43m.\u001b[49m\u001b[43mlibrary\u001b[49m.Library(\u001b[33m\"\u001b[39m\u001b[33mexport\u001b[39m\u001b[33m\"\u001b[39m, \u001b[33m\"\u001b[39m\u001b[33mFRAGMENT\u001b[39m\u001b[33m\"\u001b[39m)  \u001b[38;5;66;03m# noqa: TOR901\u001b[39;00m\n\u001b[32m      6\u001b[39m lib.define(\n\u001b[32m      7\u001b[39m     \u001b[33m\"\u001b[39m\u001b[33maccess_subclass_inner_tensor(Tensor src_subclass_tensor, str attr) -> Tensor\u001b[39m\u001b[33m\"\u001b[39m\n\u001b[32m      8\u001b[39m )\n\u001b[32m     11\u001b[39m \u001b[38;5;129m@torch\u001b[39m.library.impl(lib, \u001b[33m\"\u001b[39m\u001b[33maccess_subclass_inner_tensor\u001b[39m\u001b[33m\"\u001b[39m, \u001b[33m\"\u001b[39m\u001b[33mAutograd\u001b[39m\u001b[33m\"\u001b[39m)\n\u001b[32m     12\u001b[39m \u001b[38;5;28;01mdef\u001b[39;00m\u001b[38;5;250m \u001b[39m\u001b[34m_access_subclass_inner_tensor\u001b[39m(\n\u001b[32m     13\u001b[39m     src_subclass_tensor: torch.Tensor, attr: \u001b[38;5;28mstr\u001b[39m\n\u001b[32m     14\u001b[39m ) -> torch.Tensor:\n",
      "\u001b[31mAttributeError\u001b[39m: partially initialized module 'torch' from 'c:\\Users\\sound\\AppData\\Local\\Programs\\Python\\Python313\\Lib\\site-packages\\torch\\__init__.py' has no attribute 'library' (most likely due to a circular import)"
     ]
    }
   ],
   "source": [
    "import pickle\n",
    "\n",
    "import pandas as pd\n",
    "import matplotlib.pyplot as plt\n",
    "import seaborn as sns\n",
    "import numpy as np\n",
    "import re\n",
    "from nltk.tokenize import word_tokenize\n",
    "from sentence_transformers import SentenceTransformer\n",
    "from sentence_transformers import SentenceTransformer, models\n",
    "#from torch import nn\n",
    "from sklearn.manifold import TSNE\n",
    "from sklearn.neighbors import KNeighborsClassifier\n",
    "from sklearn.svm import SVC\n",
    "from sklearn.tree import DecisionTreeClassifier\n",
    "from sklearn.ensemble import RandomForestClassifier\n",
    "from sklearn.neural_network import MLPClassifier\n",
    "from sklearn.ensemble import AdaBoostClassifier\n",
    "from sklearn.naive_bayes import GaussianNB\n",
    "from sklearn.discriminant_analysis import LinearDiscriminantAnalysis\n",
    "from sklearn.linear_model import LogisticRegression\n",
    "from sklearn.model_selection import train_test_split\n",
    "from sklearn.metrics import precision_score,accuracy_score,f1_score,confusion_matrix\n",
    "\n",
    "#https://www.kaggle.com/code/ishaaaaan/humordetect\n",
    "##cite notebook for embedding and sentence transformer pre processing"
   ]
  },
  {
   "cell_type": "code",
   "execution_count": 5,
   "id": "6e9472e3",
   "metadata": {},
   "outputs": [],
   "source": [
    "with open('X_train.pickle', 'rb') as f:\n",
    "    X_train = pickle.load(f)\n",
    "\n",
    "with open('X_test.pickle', 'rb') as f:\n",
    "    X_test = pickle.load(f)\n",
    "\n",
    "with open('y_train.pickle', 'rb') as f:\n",
    "    y_train = pickle.load(f)\n",
    "\n",
    "with open('y_test.pickle', 'rb') as f:\n",
    "    y_test = pickle.load(f)"
   ]
  },
  {
   "cell_type": "code",
   "execution_count": 6,
   "id": "75c82fb4",
   "metadata": {},
   "outputs": [
    {
     "data": {
      "image/png": "[encoded data removed]",
      "text/plain": [
       "<Figure size 640x480 with 1 Axes>"
      ]
     },
     "metadata": {},
     "output_type": "display_data"
    }
   ],
   "source": [
    "d = {'text' : X_train , 'label' : y_train}\n",
    "train = pd.DataFrame(data = d)\n",
    "sns.countplot(x='label',data=train)\n",
    "plt.title('Distribution of Sentences')\n",
    "plt.show()"
   ]
  },
  {
   "cell_type": "code",
   "execution_count": 7,
   "id": "38c59f95",
   "metadata": {},
   "outputs": [
    {
     "data": {
      "text/plain": [
       "<Axes: xlabel='label', ylabel='length'>"
      ]
     },
     "execution_count": 7,
     "metadata": {},
     "output_type": "execute_result"
    },
    {
     "data": {
      "image/png": "[encoded data removed]",
      "text/plain": [
       "<Figure size 1500x1000 with 1 Axes>"
      ]
     },
     "metadata": {},
     "output_type": "display_data"
    }
   ],
   "source": [
    "plt.figure(figsize=(15,10))\n",
    "train['length'] = train.text.apply(lambda x: len(x))\n",
    "sns.boxplot(x='label',y='length',data=train)"
   ]
  },
  {
   "cell_type": "code",
   "execution_count": 8,
   "id": "f3ddaa2c",
   "metadata": {},
   "outputs": [
    {
     "name": "stdout",
     "output_type": "stream",
     "text": [
      "13409\n",
      "12147\n"
     ]
    }
   ],
   "source": [
    "#removing instances with less than 30 and more than 140 chars in training set\n",
    "\n",
    "print(len(train))\n",
    "df = train[(train.length >= 30) & (train.length <= 140)]\n",
    "df = df.reset_index()\n",
    "print (len(df))"
   ]
  },
  {
   "cell_type": "code",
   "execution_count": 9,
   "id": "3051be8c",
   "metadata": {},
   "outputs": [
    {
     "name": "stdout",
     "output_type": "stream",
     "text": [
      "3355\n",
      "3056\n"
     ]
    },
    {
     "data": {
      "image/png": "[encoded data removed]",
      "text/plain": [
       "<Figure size 640x480 with 1 Axes>"
      ]
     },
     "metadata": {},
     "output_type": "display_data"
    }
   ],
   "source": [
    "#removing instances with less than 30 and more than 140 chars in test set\n",
    "testdf = pd.DataFrame()\n",
    "testdf['text'] = X_test\n",
    "testdf['label'] = y_test\n",
    "\n",
    "print(len(testdf))\n",
    "testdf['length'] = testdf['text'].str.len()\n",
    "test = testdf[(testdf['length'] >= 30) & (testdf['length'] <= 140)]\n",
    "test = test.reset_index(drop=True)\n",
    "print(len(test))\n",
    "\n",
    "\n",
    "# Looking at Test Sentences Distribution\n",
    "sns.countplot(x='label',data=test)\n",
    "plt.title('Distribution of Sentences - Test')\n",
    "plt.show()"
   ]
  },
  {
   "cell_type": "code",
   "execution_count": 10,
   "id": "e426be8d",
   "metadata": {
    "scrolled": true
   },
   "outputs": [
    {
     "ename": "NameError",
     "evalue": "name 'models' is not defined",
     "output_type": "error",
     "traceback": [
      "\u001b[31m---------------------------------------------------------------------------\u001b[39m",
      "\u001b[31mNameError\u001b[39m                                 Traceback (most recent call last)",
      "\u001b[36mCell\u001b[39m\u001b[36m \u001b[39m\u001b[32mIn[10]\u001b[39m\u001b[32m, line 6\u001b[39m\n\u001b[32m      1\u001b[39m \u001b[38;5;66;03m#loads BERT base model from hugging face - sets maximum length to 200 tokens\u001b[39;00m\n\u001b[32m      2\u001b[39m \u001b[38;5;66;03m#pools token embeddings from BERT into a single fixed sized sentence vector\u001b[39;00m\n\u001b[32m      3\u001b[39m \u001b[38;5;66;03m#adds a dense fully connected layer on top of sentence embeddings. uses tanh as activation function\u001b[39;00m\n\u001b[32m      4\u001b[39m \u001b[38;5;66;03m#then combines all these into a sentence transformer\u001b[39;00m\n\u001b[32m----> \u001b[39m\u001b[32m6\u001b[39m word_embedding_model = \u001b[43mmodels\u001b[49m.Transformer(\u001b[33m'\u001b[39m\u001b[33mbert-base-uncased\u001b[39m\u001b[33m'\u001b[39m, max_seq_length=\u001b[32m200\u001b[39m) \n\u001b[32m      7\u001b[39m pooling_model = models.Pooling(word_embedding_model.get_word_embedding_dimension())\n\u001b[32m      8\u001b[39m dense_model = models.Dense(in_features=pooling_model.get_sentence_embedding_dimension(), out_features=\u001b[32m200\u001b[39m, activation_function=nn.Tanh())\n",
      "\u001b[31mNameError\u001b[39m: name 'models' is not defined"
     ]
    }
   ],
   "source": [
    "#loads BERT base model from hugging face - sets maximum length to 200 tokens\n",
    "#pools token embeddings from BERT into a single fixed sized sentence vector\n",
    "#adds a dense fully connected layer on top of sentence embeddings. uses tanh as activation function\n",
    "#then combines all these into a sentence transformer\n",
    "\n",
    "word_embedding_model = models.Transformer('bert-base-uncased', max_seq_length=200) \n",
    "pooling_model = models.Pooling(word_embedding_model.get_word_embedding_dimension())\n",
    "dense_model = models.Dense(in_features=pooling_model.get_sentence_embedding_dimension(), out_features=200, activation_function=nn.Tanh())\n",
    "\n",
    "bert_model = SentenceTransformer(modules=[word_embedding_model, pooling_model, dense_model])\n",
    "bert_model.save(\"bert_joke_model\")"
   ]
  },
  {
   "cell_type": "code",
   "execution_count": 8,
   "id": "5d860b23",
   "metadata": {},
   "outputs": [],
   "source": [
    "jks = df.text[df.label == 1]\n",
    "njks = df.text[df.label == 0]\n",
    "\n",
    "# Deriving the Sentence Embeddings from our model\n",
    "jokes = bert_model.encode(jks.tolist())\n",
    "njokes = bert_model.encode(njks.tolist())\n",
    "\n",
    "# A Huge matrix of Sentence Embeddings\n",
    "sentences = np.concatenate((jokes,njokes),axis=0)\n",
    "\n",
    "#Creating the labels\n",
    "a = np.ones((len(df[df.label == 1]),))\n",
    "b = np.zeros((len(df[df.label == 0]),))\n",
    "labels = np.concatenate((a,b),axis=0)"
   ]
  },
  {
   "cell_type": "code",
   "execution_count": null,
   "id": "2560c4d9",
   "metadata": {},
   "outputs": [],
   "source": [
    "tests = bert_model.encode(test.text)"
   ]
  },
  {
   "cell_type": "code",
   "execution_count": 12,
   "id": "861ded30",
   "metadata": {},
   "outputs": [
    {
     "ename": "NameError",
     "evalue": "name 'sentences' is not defined",
     "output_type": "error",
     "traceback": [
      "\u001b[31m---------------------------------------------------------------------------\u001b[39m",
      "\u001b[31mNameError\u001b[39m                                 Traceback (most recent call last)",
      "\u001b[36mCell\u001b[39m\u001b[36m \u001b[39m\u001b[32mIn[12]\u001b[39m\u001b[32m, line 10\u001b[39m\n\u001b[32m      6\u001b[39m \u001b[38;5;28;01mfrom\u001b[39;00m\u001b[38;5;250m \u001b[39m\u001b[34;01msklearn\u001b[39;00m\u001b[34;01m.\u001b[39;00m\u001b[34;01mmetrics\u001b[39;00m\u001b[38;5;250m \u001b[39m\u001b[38;5;28;01mimport\u001b[39;00m confusion_matrix, precision_score, recall_score, f1_score, accuracy_score, classification_report\n\u001b[32m      7\u001b[39m \u001b[38;5;28;01mimport\u001b[39;00m\u001b[38;5;250m \u001b[39m\u001b[34;01mjoblib\u001b[39;00m  \u001b[38;5;66;03m# for saving models\u001b[39;00m\n\u001b[32m---> \u001b[39m\u001b[32m10\u001b[39m X_train, X_valid, y_train, y_valid = train_test_split(\u001b[43msentences\u001b[49m, labels, test_size=\u001b[32m0.4\u001b[39m, random_state=\u001b[32m42\u001b[39m)\n\u001b[32m     12\u001b[39m \u001b[38;5;66;03m# Calculate threshold for probability-based classifiers\u001b[39;00m\n\u001b[32m     13\u001b[39m threshold = \u001b[32m0.5\u001b[39m \u001b[38;5;66;03m#np.sum(1 * (y_train == 1)) / len(y_train)\u001b[39;00m\n",
      "\u001b[31mNameError\u001b[39m: name 'sentences' is not defined"
     ]
    }
   ],
   "source": [
    "import numpy as np\n",
    "import pandas as pd\n",
    "from sklearn.model_selection import train_test_split\n",
    "from sklearn.neural_network import MLPClassifier\n",
    "from sklearn.linear_model import LogisticRegression\n",
    "from sklearn.metrics import confusion_matrix, precision_score, recall_score, f1_score, accuracy_score, classification_report\n",
    "import joblib  # for saving models\n",
    "\n",
    "\n",
    "X_train, X_valid, y_train, y_valid = train_test_split(sentences, labels, test_size=0.4, random_state=42)\n",
    "\n",
    "# Calculate threshold for probability-based classifiers\n",
    "threshold = 0.5 #np.sum(1 * (y_train == 1)) / len(y_train)\n",
    "\n",
    "# Classifiers to use\n",
    "models = {\n",
    "    \"NeuralNet\": MLPClassifier(alpha=1, max_iter=1000),\n",
    "    \"LogisticRegression\": LogisticRegression(class_weight='balanced')\n",
    "}"
   ]
  },
  {
   "cell_type": "code",
   "execution_count": 32,
   "id": "c0468824",
   "metadata": {},
   "outputs": [],
   "source": [
    "# DataFrames to store results and predictions\n",
    "Y_pred_valid = pd.DataFrame({'Class_true': y_valid})\n",
    "Y_results_valid = pd.DataFrame(columns=['Classifier', 'Precision', 'Recall', 'F1_score', 'Accuracy', 'Specificity', 'Sensitivity'])"
   ]
  },
  {
   "cell_type": "code",
   "execution_count": 33,
   "id": "93362cde",
   "metadata": {},
   "outputs": [
    {
     "name": "stdout",
     "output_type": "stream",
     "text": [
      "Finished training and saving model: NeuralNet\n",
      "Finished training and saving model: LogisticRegression\n"
     ]
    },
    {
     "name": "stderr",
     "output_type": "stream",
     "text": [
      "C:\\Users\\sound\\AppData\\Local\\Temp\\ipykernel_23164\\1164328827.py:23: FutureWarning: The behavior of DataFrame concatenation with empty or all-NA entries is deprecated. In a future version, this will no longer exclude empty or all-NA columns when determining the result dtypes. To retain the old behavior, exclude the relevant entries before the concat operation.\n",
      "  Y_results_valid = pd.concat([Y_results_valid, pd.DataFrame([{\n"
     ]
    }
   ],
   "source": [
    "for name, clf in models.items():\n",
    "    clf.fit(X_train, y_train)\n",
    "\n",
    "    # Predict\n",
    "    if hasattr(clf, \"predict_proba\"):\n",
    "        y_pred = 1 * (clf.predict_proba(X_valid)[:, 1] > threshold)\n",
    "    else:\n",
    "        y_pred = clf.predict(X_valid)\n",
    "\n",
    "    Y_pred_valid[name] = y_pred\n",
    "\n",
    "    # Metrics\n",
    "    tn, fp, fn, tp = confusion_matrix(y_valid, y_pred).ravel()\n",
    "    tn += 1; fp += 1; fn += 1; tp += 1  # Smoothing to avoid divide-by-zero\n",
    "\n",
    "    precision = precision_score(y_valid, y_pred)\n",
    "    recall = recall_score(y_valid, y_pred)\n",
    "    f1 = f1_score(y_valid, y_pred)\n",
    "    accuracy = accuracy_score(y_valid, y_pred)\n",
    "    specificity = tn / (tn + fp)\n",
    "    sensitivity = tp / (tp + fn)\n",
    "\n",
    "    Y_results_valid = pd.concat([Y_results_valid, pd.DataFrame([{\n",
    "    'Classifier': name,\n",
    "    'Precision': precision,\n",
    "    'Recall': recall,\n",
    "    'F1_score': f1,\n",
    "    'Accuracy': accuracy,\n",
    "    'Specificity': specificity,\n",
    "    'Sensitivity': sensitivity\n",
    "}])], ignore_index=True)\n",
    "\n",
    "    # Save model\n",
    "    joblib.dump(clf, f\"{name}_model.pkl\")\n",
    "\n",
    "    print(f\"Finished training and saving model: {name}\")"
   ]
  },
  {
   "cell_type": "code",
   "execution_count": 34,
   "id": "2a07de22",
   "metadata": {},
   "outputs": [
    {
     "name": "stdout",
     "output_type": "stream",
     "text": [
      "           Classifier  Precision    Recall  F1_score  Accuracy  Specificity  \\\n",
      "0           NeuralNet   0.962228  0.905967  0.933251  0.955752     0.981262   \n",
      "1  LogisticRegression   0.935196  0.948162  0.941634  0.959868     0.965646   \n",
      "\n",
      "   Sensitivity  \n",
      "0     0.905479  \n",
      "1     0.947622  \n"
     ]
    }
   ],
   "source": [
    "# Optional: view results\n",
    "print(Y_results_valid)"
   ]
  },
  {
   "cell_type": "code",
   "execution_count": 13,
   "id": "0a8e5183",
   "metadata": {},
   "outputs": [
    {
     "ename": "NameError",
     "evalue": "name 'SentenceTransformer' is not defined",
     "output_type": "error",
     "traceback": [
      "\u001b[31m---------------------------------------------------------------------------\u001b[39m",
      "\u001b[31mNameError\u001b[39m                                 Traceback (most recent call last)",
      "\u001b[36mCell\u001b[39m\u001b[36m \u001b[39m\u001b[32mIn[13]\u001b[39m\u001b[32m, line 7\u001b[39m\n\u001b[32m      4\u001b[39m lr_model = joblib.load(\u001b[33m\"\u001b[39m\u001b[33mLogisticRegression_model.pkl\u001b[39m\u001b[33m\"\u001b[39m)\n\u001b[32m      6\u001b[39m \u001b[38;5;66;03m# Load your trained SentenceTransformer model\u001b[39;00m\n\u001b[32m----> \u001b[39m\u001b[32m7\u001b[39m bert_model = \u001b[43mSentenceTransformer\u001b[49m(\u001b[33m\"\u001b[39m\u001b[33mbert_joke_model\u001b[39m\u001b[33m\"\u001b[39m)\n\u001b[32m      8\u001b[39m \u001b[38;5;66;03m# tests already exists as an encoding from bert model, using that\u001b[39;00m\n\u001b[32m      9\u001b[39m nn_preds = nn_model.predict(tests)\n",
      "\u001b[31mNameError\u001b[39m: name 'SentenceTransformer' is not defined"
     ]
    }
   ],
   "source": [
    "# Nic trying\n",
    "# Load models\n",
    "nn_model = joblib.load(\"NeuralNet_model.pkl\")\n",
    "lr_model = joblib.load(\"LogisticRegression_model.pkl\")\n",
    "\n",
    "# Load your trained SentenceTransformer model\n",
    "bert_model = SentenceTransformer(\"bert_joke_model\")\n",
    "# tests already exists as an encoding from bert model, using that\n",
    "nn_preds = nn_model.predict(tests)\n",
    "lr_preds = lr_model.predict(tests)\n",
    "\n",
    "test['NN_pred'] = nn_preds\n",
    "test['LR_pred'] = lr_preds\n",
    "print(f\"Evaluating {len(test)} examples:\")\n",
    "print(test[['text','label','NN_pred','LR_pred']].head(10))"
   ]
  },
  {
   "cell_type": "code",
   "execution_count": 43,
   "id": "fe3577ef",
   "metadata": {},
   "outputs": [
    {
     "name": "stdout",
     "output_type": "stream",
     "text": [
      "\n",
      "=== NeuralNet ===\n",
      "Accuracy   : 0.964\n",
      "Precision  : 0.964\n",
      "Recall     : 0.926\n",
      "F1-score   : 0.945\n",
      "Confusion Matrix:\n",
      "  TN: 1995   FP:  35\n",
      "  FN:  76   TP: 950\n",
      "\n",
      "Classification Report:\n",
      "              precision    recall  f1-score   support\n",
      "\n",
      "           0      0.963     0.983     0.973      2030\n",
      "           1      0.964     0.926     0.945      1026\n",
      "\n",
      "    accuracy                          0.964      3056\n",
      "   macro avg      0.964     0.954     0.959      3056\n",
      "weighted avg      0.964     0.964     0.963      3056\n",
      "\n",
      "\n",
      "=== LogisticRegression ===\n",
      "Accuracy   : 0.966\n",
      "Precision  : 0.932\n",
      "Recall     : 0.969\n",
      "F1-score   : 0.950\n",
      "Confusion Matrix:\n",
      "  TN: 1958   FP:  72\n",
      "  FN:  32   TP: 994\n",
      "\n",
      "Classification Report:\n",
      "              precision    recall  f1-score   support\n",
      "\n",
      "           0      0.984     0.965     0.974      2030\n",
      "           1      0.932     0.969     0.950      1026\n",
      "\n",
      "    accuracy                          0.966      3056\n",
      "   macro avg      0.958     0.967     0.962      3056\n",
      "weighted avg      0.967     0.966     0.966      3056\n",
      "\n"
     ]
    }
   ],
   "source": [
    "for name, col in [(\"NeuralNet\", \"NN_pred\"), (\"LogisticRegression\", \"LR_pred\")]:\n",
    "    y_true = test['label']\n",
    "    y_pred = test[col]\n",
    "\n",
    "    acc = accuracy_score(y_true, y_pred)\n",
    "    prec = precision_score(y_true, y_pred)\n",
    "    rec  = recall_score(y_true, y_pred)\n",
    "    f1   = f1_score(y_true, y_pred)\n",
    "    tn, fp, fn, tp = confusion_matrix(y_true, y_pred).ravel()\n",
    "    \n",
    "    print(f\"\\n=== {name} ===\")\n",
    "    print(f\"Accuracy   : {acc:.3f}\")\n",
    "    print(f\"Precision  : {prec:.3f}\")\n",
    "    print(f\"Recall     : {rec:.3f}\")\n",
    "    print(f\"F1-score   : {f1:.3f}\")\n",
    "    print(f\"Confusion Matrix:\")\n",
    "    print(f\"  TN: {tn:3d}   FP: {fp:3d}\")\n",
    "    print(f\"  FN: {fn:3d}   TP: {tp:3d}\")\n",
    "    print(\"\\nClassification Report:\")\n",
    "    print(classification_report(y_true, y_pred, digits=3))"
   ]
  },
  {
   "cell_type": "code",
   "execution_count": 1,
   "id": "2d6c1673",
   "metadata": {},
   "outputs": [
    {
     "ename": "NameError",
     "evalue": "name 'bert_model' is not defined",
     "output_type": "error",
     "traceback": [
      "\u001b[31m---------------------------------------------------------------------------\u001b[39m",
      "\u001b[31mNameError\u001b[39m                                 Traceback (most recent call last)",
      "\u001b[36mCell\u001b[39m\u001b[36m \u001b[39m\u001b[32mIn[1]\u001b[39m\u001b[32m, line 12\u001b[39m\n\u001b[32m      9\u001b[39m test_sentences = [\u001b[33m\"\u001b[39m\u001b[33mA new wagon designed for LA rush hour traffic is called the Stationary wagon.\u001b[39m\u001b[33m\"\u001b[39m]\n\u001b[32m     11\u001b[39m \u001b[38;5;66;03m# Use your SentenceTransformer model to encode the new sentence(s)\u001b[39;00m\n\u001b[32m---> \u001b[39m\u001b[32m12\u001b[39m new_features = \u001b[43mbert_model\u001b[49m.encode(test_sentences)\n\u001b[32m     14\u001b[39m \u001b[38;5;66;03m# Make predictions\u001b[39;00m\n\u001b[32m     15\u001b[39m nn_preds = nn_model.predict(new_features)\n",
      "\u001b[31mNameError\u001b[39m: name 'bert_model' is not defined"
     ]
    }
   ],
   "source": [
    "# # Load models\n",
    "# nn_model = joblib.load(\"NeuralNet_model.pkl\")\n",
    "# lr_model = joblib.load(\"LogisticRegression_model.pkl\")\n",
    "\n",
    "# # Load your trained SentenceTransformer model\n",
    "# bert_model = SentenceTransformer(\"bert_joke_model\")\n",
    "\n",
    "# Prepare your new input sentence(s)\n",
    "test_sentences = [\"A new wagon designed for LA rush hour traffic is called the Stationary wagon.\"]\n",
    "\n",
    "# Use your SentenceTransformer model to encode the new sentence(s)\n",
    "new_features = bert_model.encode(test_sentences)\n",
    "\n",
    "# Make predictions\n",
    "nn_preds = nn_model.predict(new_features)\n",
    "lr_preds = lr_model.predict(new_features)\n",
    "\n",
    "print(\"Neural Net Prediction:\", nn_preds)\n",
    "print(\"Logistic Regression Prediction:\", lr_preds)\n"
   ]
  },
  {
   "cell_type": "code",
   "execution_count": 39,
   "id": "7eb73aab",
   "metadata": {},
   "outputs": [
    {
     "name": "stdout",
     "output_type": "stream",
     "text": [
      "[\"Don't worry if you're a kleptomaniac, you can always take something for it.\", 'Help the police - beat yourself up.', \"There are two kinds of persons: The one that divide all people in two part, and then the other that don't.\", 'Dead men are simple very cool.', 'A new wagon designed for LA rush hour traffic is called the Stationary wagon.', 'Two cheerleaders ended up married, they met by chants.', 'A doctor told the boy, \"This injection won\\'t hurt a bit.\"  That\\'s an MD promise.', 'WHY DO MORONS ONLY GO TO MOVIES IN GROUPS OF 17 OR MORE? BECAUSE THE SIGN OUTSIDE STATES \" UNDER SEVENTEEN NOT ADMITED! \"', \"Did you hear about the Scottish Kamikaze pilot? He crashed his plane in his brother's junkyard.\", 'DID YOU HEAR ABOUT THE NEW BAGHDAD ROCK GROUP? NO KIDS ON THE BLOCK.']\n"
     ]
    }
   ],
   "source": [
    "\n",
    "# Replace 'your_file.pkl' with the path to your pickle file\n",
    "with open('X_test.pickle', 'rb') as file:\n",
    "    data = pickle.load(file)\n",
    "\n",
    "# If the data is a list, you can print the first 10 items\n",
    "if isinstance(data, list):\n",
    "    print(data[:10])\n",
    "\n",
    "# If the data is a dictionary, you can print the first 10 key-value pairs\n",
    "elif isinstance(data, dict):\n",
    "    for i, (key, value) in enumerate(data.items()):\n",
    "        if i == 10:\n",
    "            break\n",
    "        print(f\"{key}: {value}\")\n",
    "\n",
    "# If the data is something else, you can simply print a sample or its summary\n",
    "else:\n",
    "    print(data)\n"
   ]
  }
 ],
 "metadata": {
  "kernelspec": {
   "display_name": "Python 3",
   "language": "python",
   "name": "python3"
  },
  "language_info": {
   "codemirror_mode": {
    "name": "ipython",
    "version": 3
   },
   "file_extension": ".py",
   "mimetype": "text/x-python",
   "name": "python",
   "nbconvert_exporter": "python",
   "pygments_lexer": "ipython3",
   "version": "3.13.1"
  }
 },
 "nbformat": 4,
 "nbformat_minor": 5
}
